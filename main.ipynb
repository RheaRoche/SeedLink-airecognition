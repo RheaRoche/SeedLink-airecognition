{
 "cells": [
  {
   "cell_type": "markdown",
   "id": "7203686f",
   "metadata": {},
   "source": [
    "Libraries"
   ]
  },
  {
   "cell_type": "code",
   "execution_count": 12,
   "id": "8561a5c7",
   "metadata": {},
   "outputs": [],
   "source": [
    "import torch\n",
    "import torch.nn as nn\n",
    "import torch.optim as optim\n",
    "from torchvision import datasets, transforms, models\n",
    "from torchvision.models import efficientnet_v2_m, EfficientNet_V2_M_Weights\n",
    "from torch.utils.data import DataLoader, WeightedRandomSampler\n",
    "import pickle  \n",
    "import numpy as np\n",
    "import os\n",
    "import shutil\n",
    "import random\n",
    "import matplotlib.pyplot as plt\n",
    "from PIL import Image\n",
    "import torch.nn.functional as F\n",
    "from collections import Counter\n",
    "from tqdm import tqdm\n",
    "import warnings\n",
    "warnings.filterwarnings('ignore')"
   ]
  },
  {
   "cell_type": "code",
   "execution_count": 13,
   "id": "ce99ee4d",
   "metadata": {},
   "outputs": [],
   "source": [
    "# Set random seeds for reproducibility\n",
    "torch.manual_seed(42)\n",
    "np.random.seed(42)\n",
    "random.seed(42)\n",
    "if torch.cuda.is_available():\n",
    "    torch.cuda.manual_seed_all(42)"
   ]
  },
  {
   "cell_type": "code",
   "execution_count": 14,
   "id": "e83f245f",
   "metadata": {},
   "outputs": [
    {
     "name": "stdout",
     "output_type": "stream",
     "text": [
      "Using device: cuda\n"
     ]
    }
   ],
   "source": [
    "# Device configuration\n",
    "device = torch.device(\"cuda\" if torch.cuda.is_available() else \"cpu\")\n",
    "print(f\"Using device: {device}\")"
   ]
  },
  {
   "cell_type": "code",
   "execution_count": 15,
   "id": "dc84dd97",
   "metadata": {},
   "outputs": [
    {
     "name": "stdout",
     "output_type": "stream",
     "text": [
      "Using GPU (CUDA)\n",
      "Device selected: cuda\n"
     ]
    }
   ],
   "source": [
    "# Choose the best available device\n",
    "if torch.cuda.is_available():\n",
    "    device = torch.device(\"cuda\")\n",
    "    print(\"Using GPU (CUDA)\")\n",
    "elif torch.backends.mps.is_built() and torch.backends.mps.is_available():\n",
    "    device = torch.device(\"mps\")\n",
    "    print(\"Using Apple MPS (Metal Performance Shaders)\")\n",
    "else:\n",
    "    device = torch.device(\"cpu\")\n",
    "    print(\"Using CPU\")\n",
    "\n",
    "print(\"Device selected:\", device)\n"
   ]
  },
  {
   "cell_type": "code",
   "execution_count": 16,
   "id": "074f228a",
   "metadata": {},
   "outputs": [
    {
     "name": "stdout",
     "output_type": "stream",
     "text": [
      "['Almond', 'Amaranth', 'Apple', 'Apricot', 'Arecanut', 'Asparagus', 'Avocado', 'Banana', 'Beans', 'Beetroot', 'Bell Pepper', 'Bitter Gourd', 'Black Berry', 'Black Current', 'Blueberry', 'Bottle Gourd', 'Brinjal', 'Broccoli', 'Cabbage', 'Capsicum', 'Cardamom', 'Carrot', 'Cashew', 'Cauliflower', 'Cherry', 'Chikoo', 'Chilli', 'Clove', 'Coconut', 'Coffee-plant', 'Corn', 'Cotton', 'Cranberry', 'Cucumber', 'Custard Apple', 'Dates', 'Dragon Fruit', 'Elderberry', 'Fig', 'Fox_nut(Makhana)', 'Garlic', 'Ginger', 'Gooseberry', 'Gram', 'Grapes', 'Guava', 'Jackfruit', 'Jowar', 'Jute', 'Kiwi', 'Lemon', 'Lettuce', 'Litchi', 'Longan', 'Maize', 'Mango', 'Mushroom', 'Muskmelon', 'Mustard-oil', 'Okra', 'Olive', 'Onion', 'Orange', 'Papaya', 'Passion Fruit', 'Peach', 'Pear', 'Pearl_millet(bajra)', 'Peas', 'Pineapple', 'Plum', 'Pomegranate', 'Potato', 'Pumpkin', 'Radish', 'Rice', 'Soyabean', 'Spinach', 'Strawberry', 'Sugarcane', 'Sunflower', 'Sweet Potato', 'Tamarind', 'Taro Roots', 'Tea', 'Tinda', 'Tobacco-plant', 'Tomato', 'Turnip', 'Vigna-radiati(Mung)', 'Watermelon', 'Wax Gourd', 'Wheat', 'Wood Apple', 'Yam', 'Zucchini']\n",
      "['test', 'train', 'val']\n"
     ]
    }
   ],
   "source": [
    "# Paths\n",
    "folder_path = r'D:\\SeedLink\\Agricultural-crops'\n",
    "base_dir = r'D:\\SeedLink\\Agricultural-crops-split'\n",
    "\n",
    "print(os.listdir(folder_path))\n",
    "print(os.listdir(base_dir))\n"
   ]
  },
  {
   "cell_type": "markdown",
   "id": "8006d0c7",
   "metadata": {},
   "source": [
    "Load and preprocess dataset"
   ]
  },
  {
   "cell_type": "code",
   "execution_count": 6,
   "id": "ff58b957",
   "metadata": {},
   "outputs": [],
   "source": [
    "# Create directories\n",
    "for split in ['train', 'val', 'test']:\n",
    "    os.makedirs(os.path.join(base_dir, split), exist_ok=True)\n",
    "\n",
    "classes = [d for d in os.listdir(folder_path) if os.path.isdir(os.path.join(folder_path, d))]\n",
    "\n",
    "for cls in classes:\n",
    "    for split in ['train', 'val', 'test']:\n",
    "        os.makedirs(os.path.join(base_dir, split, cls), exist_ok=True)"
   ]
  },
  {
   "cell_type": "code",
   "execution_count": 25,
   "id": "b1990d1e",
   "metadata": {},
   "outputs": [
    {
     "name": "stdout",
     "output_type": "stream",
     "text": [
      "Almond 15\n",
      "Amaranth 6\n",
      "Apple 30\n",
      "Apricot 87\n",
      "Arecanut 20\n",
      "Asparagus 20\n",
      "Avocado 69\n",
      "Banana 23\n",
      "Beans 69\n",
      "Beetroot 66\n",
      "Bell Pepper 81\n",
      "Bitter Gourd 81\n",
      "Black Berry 66\n",
      "Black Current 63\n",
      "Blueberry 57\n",
      "Bottle Gourd 69\n",
      "Brinjal 63\n",
      "Broccoli 54\n",
      "Cabbage 57\n",
      "Capsicum 66\n",
      "Cardamom 16\n",
      "Carrot 54\n",
      "Cashew 54\n",
      "Cauliflower 45\n",
      "Cherry 24\n",
      "Chikoo 16\n",
      "Chilli 17\n",
      "Clove 22\n",
      "Coconut 18\n",
      "Coffee-plant 21\n",
      "Corn 51\n",
      "Cotton 24\n",
      "Cranberry 45\n",
      "Cucumber 23\n",
      "Custard Apple 54\n",
      "Dates 63\n",
      "Dragon Fruit 54\n",
      "Elderberry 165\n",
      "Fig 51\n",
      "Fox_nut(Makhana) 17\n",
      "Garlic 48\n",
      "Ginger 51\n",
      "Gooseberry 66\n",
      "Gram 18\n",
      "Grapes 30\n",
      "Guava 57\n",
      "Jackfruit 57\n",
      "Jowar 22\n",
      "Jute 17\n",
      "Kiwi 30\n",
      "Lemon 21\n",
      "Lettuce 72\n",
      "Litchi 51\n",
      "Longan 48\n",
      "Maize 23\n",
      "Mango 29\n",
      "Mushroom 45\n",
      "Muskmelon 48\n",
      "Mustard-oil 21\n",
      "Okra 42\n",
      "Olive 45\n",
      "Onion 42\n",
      "Orange 30\n",
      "Papaya 17\n",
      "Passion Fruit 30\n",
      "Peach 36\n",
      "Pear 60\n",
      "Pearl_millet(bajra) 29\n",
      "Peas 75\n",
      "Pineapple 18\n",
      "Plum 26\n",
      "Pomegranate 45\n",
      "Potato 57\n",
      "Pumpkin 45\n",
      "Radish 15\n",
      "Rice 21\n",
      "Soyabean 22\n",
      "Spinach 60\n",
      "Strawberry 30\n",
      "Sugarcane 18\n",
      "Sunflower 18\n",
      "Sweet Potato 48\n",
      "Tamarind 23\n",
      "Taro Roots 13\n",
      "Tea 17\n",
      "Tinda 12\n",
      "Tobacco-plant 24\n",
      "Tomato 60\n",
      "Turnip 73\n",
      "Vigna-radiati(Mung) 20\n",
      "Watermelon 66\n",
      "Wax Gourd 63\n",
      "Wheat 23\n",
      "Wood Apple 12\n",
      "Yam 11\n",
      "Zucchini 17\n"
     ]
    }
   ],
   "source": [
    "train_dir = r'D:\\SeedLink\\Agricultural-crops-split\\train'\n",
    "\n",
    "for cls in os.listdir(train_dir):\n",
    "    cls_path = os.path.join(train_dir, cls)\n",
    "    n = len(os.listdir(cls_path))\n",
    "    print(cls, n)\n"
   ]
  },
  {
   "cell_type": "code",
   "execution_count": 17,
   "id": "8bedf3db",
   "metadata": {},
   "outputs": [
    {
     "name": "stdout",
     "output_type": "stream",
     "text": [
      "Data splitting completed!\n"
     ]
    }
   ],
   "source": [
    "# Split with better ratios\n",
    "split_ratio = {'train': 0.75, 'val': 0.15, 'test': 0.10}\n",
    "\n",
    "for cls in classes:\n",
    "    cls_path = os.path.join(folder_path, cls)\n",
    "    if not os.path.isdir(cls_path):\n",
    "        continue\n",
    "    \n",
    "    images = [f for f in os.listdir(cls_path) if f.lower().endswith(('.png', '.jpg', '.jpeg'))]\n",
    "    random.shuffle(images)\n",
    "    \n",
    "    n_total = len(images)\n",
    "    n_train = int(n_total * split_ratio['train'])\n",
    "    n_val = int(n_total * split_ratio['val'])\n",
    "    \n",
    "    train_images = images[:n_train]\n",
    "    val_images = images[n_train:n_train + n_val]\n",
    "    test_images = images[n_train + n_val:]\n",
    "    \n",
    "    for img in train_images:\n",
    "        src = os.path.join(cls_path, img)\n",
    "        dst = os.path.join(base_dir, 'train', cls, img)\n",
    "        if not os.path.exists(dst):\n",
    "            shutil.copy(src, dst)\n",
    "    \n",
    "    for img in val_images:\n",
    "        src = os.path.join(cls_path, img)\n",
    "        dst = os.path.join(base_dir, 'val', cls, img)\n",
    "        if not os.path.exists(dst):\n",
    "            shutil.copy(src, dst)\n",
    "    \n",
    "    for img in test_images:\n",
    "        src = os.path.join(cls_path, img)\n",
    "        dst = os.path.join(base_dir, 'test', cls, img)\n",
    "        if not os.path.exists(dst):\n",
    "            shutil.copy(src, dst)\n",
    "\n",
    "print(\"Data splitting completed!\")"
   ]
  },
  {
   "cell_type": "markdown",
   "id": "bb6feadc",
   "metadata": {},
   "source": [
    "Enhanced data Augmentation"
   ]
  },
  {
   "cell_type": "code",
   "execution_count": 18,
   "id": "b27d51a4",
   "metadata": {},
   "outputs": [],
   "source": [
    "# More aggressive augmentation for training\n",
    "train_transform = transforms.Compose([\n",
    "    transforms.Resize((256, 256)),  # Resize larger first\n",
    "    transforms.RandomResizedCrop(224, scale=(0.8, 1.0)),  # Random crop\n",
    "    transforms.RandomHorizontalFlip(p=0.5),\n",
    "    transforms.RandomVerticalFlip(p=0.2),\n",
    "    transforms.RandomRotation(20),\n",
    "    transforms.ColorJitter(brightness=0.4, contrast=0.4, saturation=0.4, hue=0.15),\n",
    "    transforms.RandomAffine(degrees=0, translate=(0.1, 0.1), scale=(0.9, 1.1)),\n",
    "    transforms.RandomPerspective(distortion_scale=0.2, p=0.5),\n",
    "    transforms.RandomGrayscale(p=0.1),  # Random grayscale\n",
    "    transforms.ToTensor(),\n",
    "    transforms.Normalize(mean=[0.485, 0.456, 0.406], std=[0.229, 0.224, 0.225]),\n",
    "    transforms.RandomErasing(p=0.3, scale=(0.02, 0.15))  # Random erasing\n",
    "])\n",
    "\n",
    "# Test-time augmentation\n",
    "val_test_transform = transforms.Compose([\n",
    "    transforms.Resize((224, 224)),\n",
    "    transforms.ToTensor(),\n",
    "    transforms.Normalize(mean=[0.485, 0.456, 0.406], std=[0.229, 0.224, 0.225])\n",
    "])"
   ]
  },
  {
   "cell_type": "markdown",
   "id": "591456b5",
   "metadata": {},
   "source": [
    "Load Datasets with Class Balancing"
   ]
  },
  {
   "cell_type": "code",
   "execution_count": 20,
   "id": "91f2e4f0",
   "metadata": {},
   "outputs": [
    {
     "name": "stdout",
     "output_type": "stream",
     "text": [
      "\n",
      "Class distribution (train):\n",
      "Min samples: 6, Max samples: 165\n",
      "Mean samples: 40.8\n",
      "\n",
      "Classes: 96\n",
      "Train: 3913, Val: 748, Test: 581\n"
     ]
    }
   ],
   "source": [
    "train_dataset = datasets.ImageFolder(os.path.join(base_dir, 'train'), transform=train_transform)\n",
    "val_dataset = datasets.ImageFolder(os.path.join(base_dir, 'val'), transform=val_test_transform)\n",
    "test_dataset = datasets.ImageFolder(os.path.join(base_dir, 'test'), transform=val_test_transform)\n",
    "\n",
    "# Calculate class weights for handling imbalanced data\n",
    "class_counts = Counter(train_dataset.targets)\n",
    "print(f\"\\nClass distribution (train):\")\n",
    "print(f\"Min samples: {min(class_counts.values())}, Max samples: {max(class_counts.values())}\")\n",
    "print(f\"Mean samples: {np.mean(list(class_counts.values())):.1f}\")\n",
    "\n",
    "# Stronger class weighting for imbalanced classes\n",
    "total_samples = len(train_dataset)\n",
    "class_weights_tensor = torch.zeros(len(class_counts))\n",
    "for cls, count in class_counts.items():\n",
    "    class_weights_tensor[cls] = total_samples / (len(class_counts) * count)\n",
    "\n",
    "# Normalize weights\n",
    "class_weights_tensor = class_weights_tensor / class_weights_tensor.sum() * len(class_counts)\n",
    "\n",
    "# Sample weights for WeightedRandomSampler\n",
    "sample_weights = [class_weights_tensor[label].item() for label in train_dataset.targets]\n",
    "\n",
    "# Create weighted sampler\n",
    "sampler = WeightedRandomSampler(\n",
    "    weights=sample_weights,\n",
    "    num_samples=len(sample_weights),\n",
    "    replacement=True\n",
    ")\n",
    "\n",
    "# DataLoaders with optimized settings\n",
    "train_loader = DataLoader(\n",
    "    train_dataset, \n",
    "    batch_size=64,  # Increased batch size for better gradient estimates\n",
    "    sampler=sampler, \n",
    "    num_workers=4, \n",
    "    pin_memory=True,\n",
    "    prefetch_factor=2\n",
    ")\n",
    "\n",
    "val_loader = DataLoader(\n",
    "    val_dataset, \n",
    "    batch_size=64, \n",
    "    shuffle=False, \n",
    "    num_workers=4, \n",
    "    pin_memory=True\n",
    ")\n",
    "\n",
    "test_loader = DataLoader(\n",
    "    test_dataset, \n",
    "    batch_size=64, \n",
    "    shuffle=False, \n",
    "    num_workers=4, \n",
    "    pin_memory=True\n",
    ")\n",
    "\n",
    "print(f\"\\nClasses: {len(train_dataset.classes)}\")\n",
    "print(f\"Train: {len(train_dataset)}, Val: {len(val_dataset)}, Test: {len(test_dataset)}\")"
   ]
  },
  {
   "cell_type": "code",
   "execution_count": 21,
   "id": "6399919f",
   "metadata": {},
   "outputs": [
    {
     "name": "stderr",
     "output_type": "stream",
     "text": [
      "Downloading: \"https://download.pytorch.org/models/efficientnet_v2_m-dc08266a.pth\" to C:\\Users\\ASUS/.cache\\torch\\hub\\checkpoints\\efficientnet_v2_m-dc08266a.pth\n",
      "100%|██████████| 208M/208M [00:26<00:00, 8.33MB/s] \n"
     ]
    },
    {
     "name": "stdout",
     "output_type": "stream",
     "text": [
      "\n",
      "Model: EfficientNetV2-M\n",
      "Total parameters: 54,747,220\n",
      "Trainable parameters: 26,730,248 (48.8%)\n"
     ]
    }
   ],
   "source": [
    "# ==================== CELL 4: Build Advanced Model (EfficientNetV2-M) ====================\n",
    "# Use EfficientNetV2-M for better accuracy (more powerful than ResNet50)\n",
    "model = efficientnet_v2_m(weights=EfficientNet_V2_M_Weights.IMAGENET1K_V1)\n",
    "\n",
    "# Freeze early layers (first 80% of layers)\n",
    "total_params = len(list(model.parameters()))\n",
    "freeze_until = int(total_params * 0.8)\n",
    "\n",
    "for idx, param in enumerate(model.parameters()):\n",
    "    if idx < freeze_until:\n",
    "        param.requires_grad = False\n",
    "\n",
    "# Enhanced classifier head with more capacity\n",
    "num_classes = len(train_dataset.classes)\n",
    "in_features = model.classifier[1].in_features\n",
    "\n",
    "model.classifier = nn.Sequential(\n",
    "    nn.Dropout(0.5),\n",
    "    nn.Linear(in_features, 1024),\n",
    "    nn.ReLU(),\n",
    "    nn.BatchNorm1d(1024),\n",
    "    nn.Dropout(0.4),\n",
    "    nn.Linear(1024, 512),\n",
    "    nn.ReLU(),\n",
    "    nn.BatchNorm1d(512),\n",
    "    nn.Dropout(0.3),\n",
    "    nn.Linear(512, num_classes)\n",
    ")\n",
    "\n",
    "model = model.to(device)\n",
    "\n",
    "# Count trainable parameters\n",
    "trainable_params = sum(p.numel() for p in model.parameters() if p.requires_grad)\n",
    "total_params_count = sum(p.numel() for p in model.parameters())\n",
    "print(f\"\\nModel: EfficientNetV2-M\")\n",
    "print(f\"Total parameters: {total_params_count:,}\")\n",
    "print(f\"Trainable parameters: {trainable_params:,} ({100*trainable_params/total_params_count:.1f}%)\")\n"
   ]
  },
  {
   "cell_type": "markdown",
   "id": "79c03516",
   "metadata": {},
   "source": [
    "Define Loss, Optimizer, and Scheduler"
   ]
  },
  {
   "cell_type": "code",
   "execution_count": 22,
   "id": "cfea0767",
   "metadata": {},
   "outputs": [],
   "source": [
    "# Loss function with label smoothing\n",
    "criterion = nn.CrossEntropyLoss(label_smoothing=0.1)\n",
    "\n",
    "# Optimizer with weight decay\n",
    "optimizer = optim.AdamW(model.parameters(), lr=1e-3, weight_decay=1e-4)\n",
    "\n",
    "# Learning rate scheduler - Cosine annealing with warm restarts\n",
    "scheduler = optim.lr_scheduler.CosineAnnealingWarmRestarts(\n",
    "    optimizer, T_0=10, T_mult=2, eta_min=1e-6\n",
    ")\n",
    "\n",
    "# Early stopping\n",
    "best_val_acc = 0\n",
    "patience = 10\n",
    "patience_counter = 0"
   ]
  },
  {
   "cell_type": "markdown",
   "id": "ec2a39b4",
   "metadata": {},
   "source": [
    "Training Configuration"
   ]
  },
  {
   "cell_type": "code",
   "execution_count": 23,
   "id": "1c1f6841",
   "metadata": {},
   "outputs": [],
   "source": [
    "# Loss function with class weights and label smoothing\n",
    "criterion = nn.CrossEntropyLoss(\n",
    "    weight=class_weights_tensor.to(device),\n",
    "    label_smoothing=0.1\n",
    ")\n",
    "\n",
    "# Optimizer - Use AdamW with slightly lower learning rate\n",
    "optimizer = optim.AdamW(\n",
    "    model.parameters(), \n",
    "    lr=5e-4,  # Lower learning rate for stability\n",
    "    weight_decay=1e-4,\n",
    "    betas=(0.9, 0.999)\n",
    ")\n",
    "\n",
    "# Learning rate scheduler - OneCycleLR for better convergence\n",
    "scheduler = optim.lr_scheduler.OneCycleLR(\n",
    "    optimizer,\n",
    "    max_lr=5e-3,\n",
    "    epochs=50,\n",
    "    steps_per_epoch=len(train_loader),\n",
    "    pct_start=0.3,\n",
    "    anneal_strategy='cos',\n",
    "    div_factor=25.0,\n",
    "    final_div_factor=10000.0\n",
    ")\n",
    "\n",
    "# Early stopping parameters\n",
    "best_val_acc = 0\n",
    "best_test_acc = 0\n",
    "patience = 15  # Increased patience\n",
    "patience_counter = 0\n",
    "\n",
    "# Gradient clipping for stability\n",
    "max_grad_norm = 1.0\n"
   ]
  },
  {
   "cell_type": "markdown",
   "id": "1fe1a703",
   "metadata": {},
   "source": [
    "Train Model"
   ]
  },
  {
   "cell_type": "code",
   "execution_count": 24,
   "id": "32cf227c",
   "metadata": {},
   "outputs": [
    {
     "name": "stdout",
     "output_type": "stream",
     "text": [
      "\n",
      "======================================================================\n",
      "Starting Training - Target: Train/Val/Test > 95% Accuracy\n",
      "======================================================================\n",
      "\n"
     ]
    },
    {
     "name": "stderr",
     "output_type": "stream",
     "text": [
      "Epoch 1/50:   0%|          | 0/62 [00:00<?, ?it/s]"
     ]
    },
    {
     "name": "stderr",
     "output_type": "stream",
     "text": [
      "Epoch 1/50: 100%|██████████| 62/62 [01:15<00:00,  1.21s/it, loss=3.9789, acc=6.87%, lr=0.000253]\n"
     ]
    },
    {
     "name": "stdout",
     "output_type": "stream",
     "text": [
      "\n",
      "======================================================================\n",
      "Epoch [1/50]\n",
      "Train Loss: 4.2811 | Train Acc: 6.87%\n",
      "Val Loss: 3.9995 | Val Acc: 15.24%\n",
      "Learning Rate: 0.000253\n",
      "✓ New best model saved! Val Acc: 15.24%\n",
      "Patience: 0/15\n",
      "======================================================================\n",
      "\n"
     ]
    },
    {
     "name": "stderr",
     "output_type": "stream",
     "text": [
      "Epoch 2/50: 100%|██████████| 62/62 [01:15<00:00,  1.22s/it, loss=2.4169, acc=25.12%, lr=0.000408]\n"
     ]
    },
    {
     "name": "stdout",
     "output_type": "stream",
     "text": [
      "\n",
      "======================================================================\n",
      "Epoch [2/50]\n",
      "Train Loss: 3.0799 | Train Acc: 25.12%\n",
      "Val Loss: 3.0403 | Val Acc: 33.56%\n",
      "Learning Rate: 0.000408\n",
      "✓ New best model saved! Val Acc: 33.56%\n",
      "Patience: 0/15\n",
      "======================================================================\n",
      "\n"
     ]
    },
    {
     "name": "stderr",
     "output_type": "stream",
     "text": [
      "Epoch 3/50: 100%|██████████| 62/62 [01:14<00:00,  1.20s/it, loss=2.6588, acc=46.43%, lr=0.000659]\n"
     ]
    },
    {
     "name": "stdout",
     "output_type": "stream",
     "text": [
      "\n",
      "======================================================================\n",
      "Epoch [3/50]\n",
      "Train Loss: 2.2186 | Train Acc: 46.43%\n",
      "Val Loss: 2.5384 | Val Acc: 48.66%\n",
      "Learning Rate: 0.000659\n",
      "✓ New best model saved! Val Acc: 48.66%\n",
      "Patience: 0/15\n",
      "======================================================================\n",
      "\n"
     ]
    },
    {
     "name": "stderr",
     "output_type": "stream",
     "text": [
      "Epoch 4/50: 100%|██████████| 62/62 [01:14<00:00,  1.20s/it, loss=2.7579, acc=57.94%, lr=0.000996]\n"
     ]
    },
    {
     "name": "stdout",
     "output_type": "stream",
     "text": [
      "\n",
      "======================================================================\n",
      "Epoch [4/50]\n",
      "Train Loss: 1.8693 | Train Acc: 57.94%\n",
      "Val Loss: 2.3798 | Val Acc: 58.16%\n",
      "Learning Rate: 0.000996\n",
      "✓ New best model saved! Val Acc: 58.16%\n",
      "Patience: 0/15\n",
      "======================================================================\n",
      "\n"
     ]
    },
    {
     "name": "stderr",
     "output_type": "stream",
     "text": [
      "Epoch 5/50: 100%|██████████| 62/62 [01:21<00:00,  1.32s/it, loss=2.5474, acc=64.61%, lr=0.001402]\n"
     ]
    },
    {
     "name": "stdout",
     "output_type": "stream",
     "text": [
      "\n",
      "======================================================================\n",
      "Epoch [5/50]\n",
      "Train Loss: 1.7442 | Train Acc: 64.61%\n",
      "Val Loss: 2.4994 | Val Acc: 60.03%\n",
      "Test Loss: 2.3341 | Test Acc: 60.41%\n",
      "Learning Rate: 0.001402\n",
      "✓ New best model saved! Val Acc: 60.03%\n",
      "Patience: 0/15\n",
      "======================================================================\n",
      "\n"
     ]
    },
    {
     "name": "stderr",
     "output_type": "stream",
     "text": [
      "Epoch 6/50: 100%|██████████| 62/62 [01:25<00:00,  1.38s/it, loss=2.3287, acc=63.84%, lr=0.001861]\n"
     ]
    },
    {
     "name": "stdout",
     "output_type": "stream",
     "text": [
      "\n",
      "======================================================================\n",
      "Epoch [6/50]\n",
      "Train Loss: 1.7612 | Train Acc: 63.84%\n",
      "Val Loss: 2.5943 | Val Acc: 54.55%\n",
      "Learning Rate: 0.001861\n",
      "Patience: 1/15\n",
      "======================================================================\n",
      "\n"
     ]
    },
    {
     "name": "stderr",
     "output_type": "stream",
     "text": [
      "Epoch 7/50: 100%|██████████| 62/62 [01:16<00:00,  1.23s/it, loss=3.3804, acc=65.19%, lr=0.002353]\n"
     ]
    },
    {
     "name": "stdout",
     "output_type": "stream",
     "text": [
      "\n",
      "======================================================================\n",
      "Epoch [7/50]\n",
      "Train Loss: 1.8043 | Train Acc: 65.19%\n",
      "Val Loss: 2.5743 | Val Acc: 61.76%\n",
      "Learning Rate: 0.002353\n",
      "✓ New best model saved! Val Acc: 61.76%\n",
      "Patience: 0/15\n",
      "======================================================================\n",
      "\n"
     ]
    },
    {
     "name": "stderr",
     "output_type": "stream",
     "text": [
      "Epoch 8/50: 100%|██████████| 62/62 [01:19<00:00,  1.28s/it, loss=2.9732, acc=62.59%, lr=0.002855]\n"
     ]
    },
    {
     "name": "stdout",
     "output_type": "stream",
     "text": [
      "\n",
      "======================================================================\n",
      "Epoch [8/50]\n",
      "Train Loss: 1.8306 | Train Acc: 62.59%\n",
      "Val Loss: 2.9363 | Val Acc: 56.95%\n",
      "Learning Rate: 0.002855\n",
      "Patience: 1/15\n",
      "======================================================================\n",
      "\n"
     ]
    },
    {
     "name": "stderr",
     "output_type": "stream",
     "text": [
      "Epoch 9/50: 100%|██████████| 62/62 [01:29<00:00,  1.45s/it, loss=1.8248, acc=64.12%, lr=0.003346]\n"
     ]
    },
    {
     "name": "stdout",
     "output_type": "stream",
     "text": [
      "\n",
      "======================================================================\n",
      "Epoch [9/50]\n",
      "Train Loss: 1.8108 | Train Acc: 64.12%\n",
      "Val Loss: 2.8925 | Val Acc: 54.41%\n",
      "Learning Rate: 0.003346\n",
      "Patience: 2/15\n",
      "======================================================================\n",
      "\n"
     ]
    },
    {
     "name": "stderr",
     "output_type": "stream",
     "text": [
      "Epoch 10/50: 100%|██████████| 62/62 [01:29<00:00,  1.45s/it, loss=2.5450, acc=64.48%, lr=0.003805]\n"
     ]
    },
    {
     "name": "stdout",
     "output_type": "stream",
     "text": [
      "\n",
      "======================================================================\n",
      "Epoch [10/50]\n",
      "Train Loss: 1.8142 | Train Acc: 64.48%\n",
      "Val Loss: 2.7438 | Val Acc: 58.69%\n",
      "Test Loss: 2.5948 | Test Acc: 58.52%\n",
      "Learning Rate: 0.003805\n",
      "Patience: 3/15\n",
      "======================================================================\n",
      "\n"
     ]
    },
    {
     "name": "stderr",
     "output_type": "stream",
     "text": [
      "Epoch 11/50: 100%|██████████| 62/62 [01:18<00:00,  1.26s/it, loss=1.3654, acc=66.45%, lr=0.004210]\n"
     ]
    },
    {
     "name": "stdout",
     "output_type": "stream",
     "text": [
      "\n",
      "======================================================================\n",
      "Epoch [11/50]\n",
      "Train Loss: 1.6951 | Train Acc: 66.45%\n",
      "Val Loss: 2.7249 | Val Acc: 54.41%\n",
      "Learning Rate: 0.004210\n",
      "Patience: 4/15\n",
      "======================================================================\n",
      "\n"
     ]
    },
    {
     "name": "stderr",
     "output_type": "stream",
     "text": [
      "Epoch 12/50: 100%|██████████| 62/62 [01:28<00:00,  1.43s/it, loss=2.1374, acc=67.65%, lr=0.004545]\n"
     ]
    },
    {
     "name": "stdout",
     "output_type": "stream",
     "text": [
      "\n",
      "======================================================================\n",
      "Epoch [12/50]\n",
      "Train Loss: 1.6765 | Train Acc: 67.65%\n",
      "Val Loss: 2.4116 | Val Acc: 58.96%\n",
      "Learning Rate: 0.004545\n",
      "Patience: 5/15\n",
      "======================================================================\n",
      "\n"
     ]
    },
    {
     "name": "stderr",
     "output_type": "stream",
     "text": [
      "Epoch 13/50: 100%|██████████| 62/62 [01:28<00:00,  1.42s/it, loss=0.8548, acc=70.30%, lr=0.004795]\n"
     ]
    },
    {
     "name": "stdout",
     "output_type": "stream",
     "text": [
      "\n",
      "======================================================================\n",
      "Epoch [13/50]\n",
      "Train Loss: 1.5682 | Train Acc: 70.30%\n",
      "Val Loss: 2.5292 | Val Acc: 64.71%\n",
      "Learning Rate: 0.004795\n",
      "✓ New best model saved! Val Acc: 64.71%\n",
      "Patience: 0/15\n",
      "======================================================================\n",
      "\n"
     ]
    },
    {
     "name": "stderr",
     "output_type": "stream",
     "text": [
      "Epoch 14/50: 100%|██████████| 62/62 [01:14<00:00,  1.21s/it, loss=1.8425, acc=73.35%, lr=0.004949]\n"
     ]
    },
    {
     "name": "stdout",
     "output_type": "stream",
     "text": [
      "\n",
      "======================================================================\n",
      "Epoch [14/50]\n",
      "Train Loss: 1.4798 | Train Acc: 73.35%\n",
      "Val Loss: 2.3102 | Val Acc: 65.51%\n",
      "Learning Rate: 0.004949\n",
      "✓ New best model saved! Val Acc: 65.51%\n",
      "Patience: 0/15\n",
      "======================================================================\n",
      "\n"
     ]
    },
    {
     "name": "stderr",
     "output_type": "stream",
     "text": [
      "Epoch 15/50: 100%|██████████| 62/62 [01:16<00:00,  1.23s/it, loss=1.7684, acc=76.03%, lr=0.005000]\n"
     ]
    },
    {
     "name": "stdout",
     "output_type": "stream",
     "text": [
      "\n",
      "======================================================================\n",
      "Epoch [15/50]\n",
      "Train Loss: 1.4034 | Train Acc: 76.03%\n",
      "Val Loss: 2.3541 | Val Acc: 63.50%\n",
      "Test Loss: 2.2675 | Test Acc: 63.51%\n",
      "Learning Rate: 0.005000\n",
      "Patience: 1/15\n",
      "======================================================================\n",
      "\n"
     ]
    },
    {
     "name": "stderr",
     "output_type": "stream",
     "text": [
      "Epoch 16/50: 100%|██████████| 62/62 [01:25<00:00,  1.38s/it, loss=1.4752, acc=77.49%, lr=0.004990]\n"
     ]
    },
    {
     "name": "stdout",
     "output_type": "stream",
     "text": [
      "\n",
      "======================================================================\n",
      "Epoch [16/50]\n",
      "Train Loss: 1.3556 | Train Acc: 77.49%\n",
      "Val Loss: 2.0455 | Val Acc: 72.73%\n",
      "Learning Rate: 0.004990\n",
      "✓ New best model saved! Val Acc: 72.73%\n",
      "Patience: 0/15\n",
      "======================================================================\n",
      "\n"
     ]
    },
    {
     "name": "stderr",
     "output_type": "stream",
     "text": [
      "Epoch 17/50: 100%|██████████| 62/62 [01:27<00:00,  1.41s/it, loss=0.7446, acc=80.42%, lr=0.004959]\n"
     ]
    },
    {
     "name": "stdout",
     "output_type": "stream",
     "text": [
      "\n",
      "======================================================================\n",
      "Epoch [17/50]\n",
      "Train Loss: 1.2653 | Train Acc: 80.42%\n",
      "Val Loss: 2.0288 | Val Acc: 75.00%\n",
      "Learning Rate: 0.004959\n",
      "✓ New best model saved! Val Acc: 75.00%\n",
      "Patience: 0/15\n",
      "======================================================================\n",
      "\n"
     ]
    },
    {
     "name": "stderr",
     "output_type": "stream",
     "text": [
      "Epoch 18/50: 100%|██████████| 62/62 [01:20<00:00,  1.30s/it, loss=1.9734, acc=83.95%, lr=0.004909]\n"
     ]
    },
    {
     "name": "stdout",
     "output_type": "stream",
     "text": [
      "\n",
      "======================================================================\n",
      "Epoch [18/50]\n",
      "Train Loss: 1.1911 | Train Acc: 83.95%\n",
      "Val Loss: 1.9061 | Val Acc: 76.60%\n",
      "Learning Rate: 0.004909\n",
      "✓ New best model saved! Val Acc: 76.60%\n",
      "Patience: 0/15\n",
      "======================================================================\n",
      "\n"
     ]
    },
    {
     "name": "stderr",
     "output_type": "stream",
     "text": [
      "Epoch 19/50: 100%|██████████| 62/62 [01:26<00:00,  1.40s/it, loss=0.9852, acc=84.51%, lr=0.004839]\n"
     ]
    },
    {
     "name": "stdout",
     "output_type": "stream",
     "text": [
      "\n",
      "======================================================================\n",
      "Epoch [19/50]\n",
      "Train Loss: 1.1656 | Train Acc: 84.51%\n",
      "Val Loss: 1.8023 | Val Acc: 79.41%\n",
      "Learning Rate: 0.004839\n",
      "✓ New best model saved! Val Acc: 79.41%\n",
      "Patience: 0/15\n",
      "======================================================================\n",
      "\n"
     ]
    },
    {
     "name": "stderr",
     "output_type": "stream",
     "text": [
      "Epoch 20/50: 100%|██████████| 62/62 [01:30<00:00,  1.47s/it, loss=1.7391, acc=85.82%, lr=0.004751]\n"
     ]
    },
    {
     "name": "stdout",
     "output_type": "stream",
     "text": [
      "\n",
      "======================================================================\n",
      "Epoch [20/50]\n",
      "Train Loss: 1.1432 | Train Acc: 85.82%\n",
      "Val Loss: 1.7961 | Val Acc: 78.74%\n",
      "Test Loss: 1.7855 | Test Acc: 78.83%\n",
      "Learning Rate: 0.004751\n",
      "Patience: 1/15\n",
      "======================================================================\n",
      "\n"
     ]
    },
    {
     "name": "stderr",
     "output_type": "stream",
     "text": [
      "Epoch 21/50: 100%|██████████| 62/62 [01:19<00:00,  1.28s/it, loss=1.3151, acc=87.25%, lr=0.004644]\n"
     ]
    },
    {
     "name": "stdout",
     "output_type": "stream",
     "text": [
      "\n",
      "======================================================================\n",
      "Epoch [21/50]\n",
      "Train Loss: 1.0931 | Train Acc: 87.25%\n",
      "Val Loss: 1.7803 | Val Acc: 80.35%\n",
      "Learning Rate: 0.004644\n",
      "✓ New best model saved! Val Acc: 80.35%\n",
      "Patience: 0/15\n",
      "======================================================================\n",
      "\n"
     ]
    },
    {
     "name": "stderr",
     "output_type": "stream",
     "text": [
      "Epoch 22/50: 100%|██████████| 62/62 [01:24<00:00,  1.36s/it, loss=1.8434, acc=88.09%, lr=0.004520]\n"
     ]
    },
    {
     "name": "stdout",
     "output_type": "stream",
     "text": [
      "\n",
      "======================================================================\n",
      "Epoch [22/50]\n",
      "Train Loss: 1.0760 | Train Acc: 88.09%\n",
      "Val Loss: 1.7523 | Val Acc: 81.55%\n",
      "Learning Rate: 0.004520\n",
      "✓ New best model saved! Val Acc: 81.55%\n",
      "Patience: 0/15\n",
      "======================================================================\n",
      "\n"
     ]
    },
    {
     "name": "stderr",
     "output_type": "stream",
     "text": [
      "Epoch 23/50: 100%|██████████| 62/62 [01:27<00:00,  1.41s/it, loss=1.2800, acc=89.91%, lr=0.004380]\n"
     ]
    },
    {
     "name": "stdout",
     "output_type": "stream",
     "text": [
      "\n",
      "======================================================================\n",
      "Epoch [23/50]\n",
      "Train Loss: 1.0459 | Train Acc: 89.91%\n",
      "Val Loss: 1.8444 | Val Acc: 80.21%\n",
      "Learning Rate: 0.004380\n",
      "Patience: 1/15\n",
      "======================================================================\n",
      "\n"
     ]
    },
    {
     "name": "stderr",
     "output_type": "stream",
     "text": [
      "Epoch 24/50: 100%|██████████| 62/62 [01:13<00:00,  1.19s/it, loss=1.6513, acc=89.39%, lr=0.004225]\n"
     ]
    },
    {
     "name": "stdout",
     "output_type": "stream",
     "text": [
      "\n",
      "======================================================================\n",
      "Epoch [24/50]\n",
      "Train Loss: 1.0220 | Train Acc: 89.39%\n",
      "Val Loss: 1.7325 | Val Acc: 80.48%\n",
      "Learning Rate: 0.004225\n",
      "Patience: 2/15\n",
      "======================================================================\n",
      "\n"
     ]
    },
    {
     "name": "stderr",
     "output_type": "stream",
     "text": [
      "Epoch 25/50: 100%|██████████| 62/62 [01:27<00:00,  1.42s/it, loss=1.2606, acc=90.01%, lr=0.004056]\n"
     ]
    },
    {
     "name": "stdout",
     "output_type": "stream",
     "text": [
      "\n",
      "======================================================================\n",
      "Epoch [25/50]\n",
      "Train Loss: 1.0157 | Train Acc: 90.01%\n",
      "Val Loss: 1.7753 | Val Acc: 81.68%\n",
      "Test Loss: 1.6856 | Test Acc: 81.76%\n",
      "Learning Rate: 0.004056\n",
      "✓ New best model saved! Val Acc: 81.68%\n",
      "Patience: 0/15\n",
      "======================================================================\n",
      "\n"
     ]
    },
    {
     "name": "stderr",
     "output_type": "stream",
     "text": [
      "Epoch 26/50: 100%|██████████| 62/62 [01:27<00:00,  1.41s/it, loss=1.2086, acc=91.62%, lr=0.003874]\n"
     ]
    },
    {
     "name": "stdout",
     "output_type": "stream",
     "text": [
      "\n",
      "======================================================================\n",
      "Epoch [26/50]\n",
      "Train Loss: 0.9826 | Train Acc: 91.62%\n",
      "Val Loss: 1.6828 | Val Acc: 82.35%\n",
      "Learning Rate: 0.003874\n",
      "✓ New best model saved! Val Acc: 82.35%\n",
      "Patience: 0/15\n",
      "======================================================================\n",
      "\n"
     ]
    },
    {
     "name": "stderr",
     "output_type": "stream",
     "text": [
      "Epoch 27/50: 100%|██████████| 62/62 [01:27<00:00,  1.40s/it, loss=1.0680, acc=90.95%, lr=0.003681]\n"
     ]
    },
    {
     "name": "stdout",
     "output_type": "stream",
     "text": [
      "\n",
      "======================================================================\n",
      "Epoch [27/50]\n",
      "Train Loss: 1.0009 | Train Acc: 90.95%\n",
      "Val Loss: 1.7550 | Val Acc: 80.88%\n",
      "Learning Rate: 0.003681\n",
      "Patience: 1/15\n",
      "======================================================================\n",
      "\n"
     ]
    },
    {
     "name": "stderr",
     "output_type": "stream",
     "text": [
      "Epoch 28/50: 100%|██████████| 62/62 [01:18<00:00,  1.27s/it, loss=0.9668, acc=91.57%, lr=0.003479]\n"
     ]
    },
    {
     "name": "stdout",
     "output_type": "stream",
     "text": [
      "\n",
      "======================================================================\n",
      "Epoch [28/50]\n",
      "Train Loss: 0.9740 | Train Acc: 91.57%\n",
      "Val Loss: 1.6721 | Val Acc: 84.36%\n",
      "Learning Rate: 0.003479\n",
      "✓ New best model saved! Val Acc: 84.36%\n",
      "Patience: 0/15\n",
      "======================================================================\n",
      "\n"
     ]
    },
    {
     "name": "stderr",
     "output_type": "stream",
     "text": [
      "Epoch 29/50: 100%|██████████| 62/62 [01:29<00:00,  1.44s/it, loss=1.1261, acc=91.77%, lr=0.003269]\n"
     ]
    },
    {
     "name": "stdout",
     "output_type": "stream",
     "text": [
      "\n",
      "======================================================================\n",
      "Epoch [29/50]\n",
      "Train Loss: 0.9536 | Train Acc: 91.77%\n",
      "Val Loss: 1.6743 | Val Acc: 84.09%\n",
      "Learning Rate: 0.003269\n",
      "Patience: 1/15\n",
      "======================================================================\n",
      "\n"
     ]
    },
    {
     "name": "stderr",
     "output_type": "stream",
     "text": [
      "Epoch 30/50: 100%|██████████| 62/62 [01:27<00:00,  1.42s/it, loss=1.4563, acc=92.72%, lr=0.003053]\n"
     ]
    },
    {
     "name": "stdout",
     "output_type": "stream",
     "text": [
      "\n",
      "======================================================================\n",
      "Epoch [30/50]\n",
      "Train Loss: 0.9472 | Train Acc: 92.72%\n",
      "Val Loss: 1.6331 | Val Acc: 85.16%\n",
      "Test Loss: 1.5830 | Test Acc: 85.03%\n",
      "Learning Rate: 0.003053\n",
      "✓ New best model saved! Val Acc: 85.16%\n",
      "Patience: 0/15\n",
      "======================================================================\n",
      "\n"
     ]
    },
    {
     "name": "stderr",
     "output_type": "stream",
     "text": [
      "Epoch 31/50: 100%|██████████| 62/62 [01:22<00:00,  1.32s/it, loss=0.7194, acc=93.46%, lr=0.002832]\n"
     ]
    },
    {
     "name": "stdout",
     "output_type": "stream",
     "text": [
      "\n",
      "======================================================================\n",
      "Epoch [31/50]\n",
      "Train Loss: 0.9386 | Train Acc: 93.46%\n",
      "Val Loss: 1.6263 | Val Acc: 84.22%\n",
      "Learning Rate: 0.002832\n",
      "Patience: 1/15\n",
      "======================================================================\n",
      "\n"
     ]
    },
    {
     "name": "stderr",
     "output_type": "stream",
     "text": [
      "Epoch 32/50: 100%|██████████| 62/62 [01:30<00:00,  1.46s/it, loss=1.1713, acc=94.38%, lr=0.002609]\n"
     ]
    },
    {
     "name": "stdout",
     "output_type": "stream",
     "text": [
      "\n",
      "======================================================================\n",
      "Epoch [32/50]\n",
      "Train Loss: 0.9296 | Train Acc: 94.38%\n",
      "Val Loss: 1.6570 | Val Acc: 84.76%\n",
      "Learning Rate: 0.002609\n",
      "Patience: 2/15\n",
      "======================================================================\n",
      "\n"
     ]
    },
    {
     "name": "stderr",
     "output_type": "stream",
     "text": [
      "Epoch 33/50: 100%|██████████| 62/62 [01:27<00:00,  1.42s/it, loss=1.5329, acc=94.53%, lr=0.002384]\n"
     ]
    },
    {
     "name": "stdout",
     "output_type": "stream",
     "text": [
      "\n",
      "======================================================================\n",
      "Epoch [33/50]\n",
      "Train Loss: 0.9306 | Train Acc: 94.53%\n",
      "Val Loss: 1.6313 | Val Acc: 83.82%\n",
      "Learning Rate: 0.002384\n",
      "Patience: 3/15\n",
      "======================================================================\n",
      "\n"
     ]
    },
    {
     "name": "stderr",
     "output_type": "stream",
     "text": [
      "Epoch 34/50: 100%|██████████| 62/62 [01:24<00:00,  1.37s/it, loss=1.8139, acc=94.20%, lr=0.002161]\n"
     ]
    },
    {
     "name": "stdout",
     "output_type": "stream",
     "text": [
      "\n",
      "======================================================================\n",
      "Epoch [34/50]\n",
      "Train Loss: 0.9153 | Train Acc: 94.20%\n",
      "Val Loss: 1.6583 | Val Acc: 82.49%\n",
      "Learning Rate: 0.002161\n",
      "Patience: 4/15\n",
      "======================================================================\n",
      "\n"
     ]
    },
    {
     "name": "stderr",
     "output_type": "stream",
     "text": [
      "Epoch 35/50: 100%|██████████| 62/62 [01:29<00:00,  1.44s/it, loss=1.3351, acc=95.58%, lr=0.001940]\n"
     ]
    },
    {
     "name": "stdout",
     "output_type": "stream",
     "text": [
      "\n",
      "======================================================================\n",
      "Epoch [35/50]\n",
      "Train Loss: 0.9058 | Train Acc: 95.58%\n",
      "Val Loss: 1.6278 | Val Acc: 85.03%\n",
      "Test Loss: 1.5718 | Test Acc: 84.85%\n",
      "Learning Rate: 0.001940\n",
      "Patience: 5/15\n",
      "======================================================================\n",
      "\n"
     ]
    },
    {
     "name": "stderr",
     "output_type": "stream",
     "text": [
      "Epoch 36/50: 100%|██████████| 62/62 [01:30<00:00,  1.45s/it, loss=1.0371, acc=94.84%, lr=0.001724]\n"
     ]
    },
    {
     "name": "stdout",
     "output_type": "stream",
     "text": [
      "\n",
      "======================================================================\n",
      "Epoch [36/50]\n",
      "Train Loss: 0.9167 | Train Acc: 94.84%\n",
      "Val Loss: 1.6239 | Val Acc: 85.96%\n",
      "Learning Rate: 0.001724\n",
      "✓ New best model saved! Val Acc: 85.96%\n",
      "Patience: 0/15\n",
      "======================================================================\n",
      "\n"
     ]
    },
    {
     "name": "stderr",
     "output_type": "stream",
     "text": [
      "Epoch 37/50: 100%|██████████| 62/62 [01:33<00:00,  1.52s/it, loss=1.0097, acc=95.73%, lr=0.001514]\n"
     ]
    },
    {
     "name": "stdout",
     "output_type": "stream",
     "text": [
      "\n",
      "======================================================================\n",
      "Epoch [37/50]\n",
      "Train Loss: 0.8770 | Train Acc: 95.73%\n",
      "Val Loss: 1.6200 | Val Acc: 86.76%\n",
      "Learning Rate: 0.001514\n",
      "✓ New best model saved! Val Acc: 86.76%\n",
      "Patience: 0/15\n",
      "======================================================================\n",
      "\n"
     ]
    },
    {
     "name": "stderr",
     "output_type": "stream",
     "text": [
      "Epoch 38/50: 100%|██████████| 62/62 [01:27<00:00,  1.41s/it, loss=0.9534, acc=95.66%, lr=0.001312]\n"
     ]
    },
    {
     "name": "stdout",
     "output_type": "stream",
     "text": [
      "\n",
      "======================================================================\n",
      "Epoch [38/50]\n",
      "Train Loss: 0.8816 | Train Acc: 95.66%\n",
      "Val Loss: 1.6128 | Val Acc: 86.76%\n",
      "Learning Rate: 0.001312\n",
      "Patience: 1/15\n",
      "======================================================================\n",
      "\n"
     ]
    },
    {
     "name": "stderr",
     "output_type": "stream",
     "text": [
      "Epoch 39/50: 100%|██████████| 62/62 [01:33<00:00,  1.51s/it, loss=2.3699, acc=95.81%, lr=0.001120]\n"
     ]
    },
    {
     "name": "stdout",
     "output_type": "stream",
     "text": [
      "\n",
      "======================================================================\n",
      "Epoch [39/50]\n",
      "Train Loss: 0.8992 | Train Acc: 95.81%\n",
      "Val Loss: 1.6189 | Val Acc: 86.50%\n",
      "Learning Rate: 0.001120\n",
      "Patience: 2/15\n",
      "======================================================================\n",
      "\n"
     ]
    },
    {
     "name": "stderr",
     "output_type": "stream",
     "text": [
      "Epoch 40/50: 100%|██████████| 62/62 [01:28<00:00,  1.43s/it, loss=0.8290, acc=96.24%, lr=0.000938]\n"
     ]
    },
    {
     "name": "stdout",
     "output_type": "stream",
     "text": [
      "\n",
      "======================================================================\n",
      "Epoch [40/50]\n",
      "Train Loss: 0.8557 | Train Acc: 96.24%\n",
      "Val Loss: 1.5913 | Val Acc: 87.17%\n",
      "Test Loss: 1.4978 | Test Acc: 87.09%\n",
      "Learning Rate: 0.000938\n",
      "✓ New best model saved! Val Acc: 87.17%\n",
      "Patience: 0/15\n",
      "======================================================================\n",
      "\n"
     ]
    },
    {
     "name": "stderr",
     "output_type": "stream",
     "text": [
      "Epoch 41/50: 100%|██████████| 62/62 [01:19<00:00,  1.29s/it, loss=0.9718, acc=96.42%, lr=0.000770]\n"
     ]
    },
    {
     "name": "stdout",
     "output_type": "stream",
     "text": [
      "\n",
      "======================================================================\n",
      "Epoch [41/50]\n",
      "Train Loss: 0.8537 | Train Acc: 96.42%\n",
      "Val Loss: 1.6116 | Val Acc: 87.17%\n",
      "Learning Rate: 0.000770\n",
      "Patience: 1/15\n",
      "======================================================================\n",
      "\n"
     ]
    },
    {
     "name": "stderr",
     "output_type": "stream",
     "text": [
      "Epoch 42/50: 100%|██████████| 62/62 [01:27<00:00,  1.41s/it, loss=0.7774, acc=97.01%, lr=0.000615]\n"
     ]
    },
    {
     "name": "stdout",
     "output_type": "stream",
     "text": [
      "\n",
      "======================================================================\n",
      "Epoch [42/50]\n",
      "Train Loss: 0.8522 | Train Acc: 97.01%\n",
      "Val Loss: 1.5939 | Val Acc: 88.24%\n",
      "Learning Rate: 0.000615\n",
      "✓ New best model saved! Val Acc: 88.24%\n",
      "Patience: 0/15\n",
      "======================================================================\n",
      "\n"
     ]
    },
    {
     "name": "stderr",
     "output_type": "stream",
     "text": [
      "Epoch 43/50: 100%|██████████| 62/62 [01:31<00:00,  1.48s/it, loss=1.0122, acc=96.68%, lr=0.000475]\n"
     ]
    },
    {
     "name": "stdout",
     "output_type": "stream",
     "text": [
      "\n",
      "======================================================================\n",
      "Epoch [43/50]\n",
      "Train Loss: 0.8650 | Train Acc: 96.68%\n",
      "Val Loss: 1.5956 | Val Acc: 88.64%\n",
      "Learning Rate: 0.000475\n",
      "✓ New best model saved! Val Acc: 88.64%\n",
      "Patience: 0/15\n",
      "======================================================================\n",
      "\n"
     ]
    },
    {
     "name": "stderr",
     "output_type": "stream",
     "text": [
      "Epoch 44/50: 100%|██████████| 62/62 [01:14<00:00,  1.20s/it, loss=0.9595, acc=97.04%, lr=0.000352]\n"
     ]
    },
    {
     "name": "stdout",
     "output_type": "stream",
     "text": [
      "\n",
      "======================================================================\n",
      "Epoch [44/50]\n",
      "Train Loss: 0.8619 | Train Acc: 97.04%\n",
      "Val Loss: 1.5804 | Val Acc: 87.83%\n",
      "Learning Rate: 0.000352\n",
      "Patience: 1/15\n",
      "======================================================================\n",
      "\n"
     ]
    },
    {
     "name": "stderr",
     "output_type": "stream",
     "text": [
      "Epoch 45/50: 100%|██████████| 62/62 [01:19<00:00,  1.28s/it, loss=0.7187, acc=97.09%, lr=0.000246]\n"
     ]
    },
    {
     "name": "stdout",
     "output_type": "stream",
     "text": [
      "\n",
      "======================================================================\n",
      "Epoch [45/50]\n",
      "Train Loss: 0.8507 | Train Acc: 97.09%\n",
      "Val Loss: 1.5888 | Val Acc: 88.50%\n",
      "Test Loss: 1.5122 | Test Acc: 87.78%\n",
      "Learning Rate: 0.000246\n",
      "Patience: 2/15\n",
      "======================================================================\n",
      "\n"
     ]
    },
    {
     "name": "stderr",
     "output_type": "stream",
     "text": [
      "Epoch 46/50: 100%|██████████| 62/62 [01:23<00:00,  1.35s/it, loss=1.5132, acc=96.88%, lr=0.000158]\n"
     ]
    },
    {
     "name": "stdout",
     "output_type": "stream",
     "text": [
      "\n",
      "======================================================================\n",
      "Epoch [46/50]\n",
      "Train Loss: 0.8787 | Train Acc: 96.88%\n",
      "Val Loss: 1.5777 | Val Acc: 88.37%\n",
      "Learning Rate: 0.000158\n",
      "Patience: 3/15\n",
      "======================================================================\n",
      "\n"
     ]
    },
    {
     "name": "stderr",
     "output_type": "stream",
     "text": [
      "Epoch 47/50: 100%|██████████| 62/62 [01:25<00:00,  1.38s/it, loss=0.9447, acc=96.78%, lr=0.000089]\n"
     ]
    },
    {
     "name": "stdout",
     "output_type": "stream",
     "text": [
      "\n",
      "======================================================================\n",
      "Epoch [47/50]\n",
      "Train Loss: 0.8522 | Train Acc: 96.78%\n",
      "Val Loss: 1.5627 | Val Acc: 87.57%\n",
      "Learning Rate: 0.000089\n",
      "Patience: 4/15\n",
      "======================================================================\n",
      "\n"
     ]
    },
    {
     "name": "stderr",
     "output_type": "stream",
     "text": [
      "Epoch 48/50: 100%|██████████| 62/62 [01:22<00:00,  1.34s/it, loss=1.0709, acc=96.32%, lr=0.000040]\n"
     ]
    },
    {
     "name": "stdout",
     "output_type": "stream",
     "text": [
      "\n",
      "======================================================================\n",
      "Epoch [48/50]\n",
      "Train Loss: 0.8695 | Train Acc: 96.32%\n",
      "Val Loss: 1.5785 | Val Acc: 88.37%\n",
      "Learning Rate: 0.000040\n",
      "Patience: 5/15\n",
      "======================================================================\n",
      "\n"
     ]
    },
    {
     "name": "stderr",
     "output_type": "stream",
     "text": [
      "Epoch 49/50: 100%|██████████| 62/62 [01:17<00:00,  1.25s/it, loss=0.7811, acc=96.83%, lr=0.000010]\n"
     ]
    },
    {
     "name": "stdout",
     "output_type": "stream",
     "text": [
      "\n",
      "======================================================================\n",
      "Epoch [49/50]\n",
      "Train Loss: 0.8403 | Train Acc: 96.83%\n",
      "Val Loss: 1.5758 | Val Acc: 87.17%\n",
      "Learning Rate: 0.000010\n",
      "Patience: 6/15\n",
      "======================================================================\n",
      "\n"
     ]
    },
    {
     "name": "stderr",
     "output_type": "stream",
     "text": [
      "Epoch 50/50: 100%|██████████| 62/62 [01:24<00:00,  1.36s/it, loss=1.3504, acc=96.55%, lr=0.000000]\n"
     ]
    },
    {
     "name": "stdout",
     "output_type": "stream",
     "text": [
      "\n",
      "======================================================================\n",
      "Epoch [50/50]\n",
      "Train Loss: 0.8731 | Train Acc: 96.55%\n",
      "Val Loss: 1.5738 | Val Acc: 88.37%\n",
      "Test Loss: 1.5056 | Test Acc: 87.78%\n",
      "Learning Rate: 0.000000\n",
      "Patience: 7/15\n",
      "======================================================================\n",
      "\n"
     ]
    }
   ],
   "source": [
    "num_epochs = 50\n",
    "train_acc_history, val_acc_history, test_acc_history = [], [], []\n",
    "train_loss_history, val_loss_history, test_loss_history = [], [], []\n",
    "\n",
    "print(f\"\\n{'='*70}\")\n",
    "print(f\"Starting Training - Target: Train/Val/Test > 95% Accuracy\")\n",
    "print(f\"{'='*70}\\n\")\n",
    "\n",
    "for epoch in range(num_epochs):\n",
    "    # ========== Training Phase ==========\n",
    "    model.train()\n",
    "    train_loss = 0.0\n",
    "    train_correct = 0\n",
    "    train_total = 0\n",
    "    \n",
    "    pbar = tqdm(train_loader, desc=f'Epoch {epoch+1}/{num_epochs}')\n",
    "    for images, labels in pbar:\n",
    "        images, labels = images.to(device), labels.to(device)\n",
    "        \n",
    "        optimizer.zero_grad()\n",
    "        outputs = model(images)\n",
    "        loss = criterion(outputs, labels)\n",
    "        loss.backward()\n",
    "        \n",
    "        # Gradient clipping\n",
    "        torch.nn.utils.clip_grad_norm_(model.parameters(), max_grad_norm)\n",
    "        \n",
    "        optimizer.step()\n",
    "        scheduler.step()\n",
    "        \n",
    "        train_loss += loss.item()\n",
    "        _, predicted = torch.max(outputs, 1)\n",
    "        train_total += labels.size(0)\n",
    "        train_correct += (predicted == labels).sum().item()\n",
    "        \n",
    "        # Update progress bar\n",
    "        current_acc = 100 * train_correct / train_total\n",
    "        pbar.set_postfix({\n",
    "            'loss': f'{loss.item():.4f}',\n",
    "            'acc': f'{current_acc:.2f}%',\n",
    "            'lr': f'{scheduler.get_last_lr()[0]:.6f}'\n",
    "        })\n",
    "    \n",
    "    epoch_train_acc = 100 * train_correct / train_total\n",
    "    epoch_train_loss = train_loss / len(train_loader)\n",
    "    \n",
    "    # ========== Validation Phase ==========\n",
    "    model.eval()\n",
    "    val_loss = 0.0\n",
    "    val_correct = 0\n",
    "    val_total = 0\n",
    "    \n",
    "    with torch.no_grad():\n",
    "        for images, labels in val_loader:\n",
    "            images, labels = images.to(device), labels.to(device)\n",
    "            outputs = model(images)\n",
    "            loss = criterion(outputs, labels)\n",
    "            \n",
    "            val_loss += loss.item()\n",
    "            _, predicted = torch.max(outputs, 1)\n",
    "            val_total += labels.size(0)\n",
    "            val_correct += (predicted == labels).sum().item()\n",
    "    \n",
    "    epoch_val_acc = 100 * val_correct / val_total\n",
    "    epoch_val_loss = val_loss / len(val_loader)\n",
    "    \n",
    "    # ========== Test Phase (every 5 epochs) ==========\n",
    "    if (epoch + 1) % 5 == 0 or epoch == num_epochs - 1:\n",
    "        test_loss = 0.0\n",
    "        test_correct = 0\n",
    "        test_total = 0\n",
    "        \n",
    "        with torch.no_grad():\n",
    "            for images, labels in test_loader:\n",
    "                images, labels = images.to(device), labels.to(device)\n",
    "                outputs = model(images)\n",
    "                loss = criterion(outputs, labels)\n",
    "                \n",
    "                test_loss += loss.item()\n",
    "                _, predicted = torch.max(outputs, 1)\n",
    "                test_total += labels.size(0)\n",
    "                test_correct += (predicted == labels).sum().item()\n",
    "        \n",
    "        epoch_test_acc = 100 * test_correct / test_total\n",
    "        epoch_test_loss = test_loss / len(test_loader)\n",
    "    else:\n",
    "        epoch_test_acc = 0\n",
    "        epoch_test_loss = 0\n",
    "    \n",
    "    # Save metrics\n",
    "    train_acc_history.append(epoch_train_acc)\n",
    "    val_acc_history.append(epoch_val_acc)\n",
    "    test_acc_history.append(epoch_test_acc)\n",
    "    train_loss_history.append(epoch_train_loss)\n",
    "    val_loss_history.append(epoch_val_loss)\n",
    "    test_loss_history.append(epoch_test_loss)\n",
    "    \n",
    "    # Print epoch summary\n",
    "    print(f'\\n{\"=\"*70}')\n",
    "    print(f'Epoch [{epoch+1}/{num_epochs}]')\n",
    "    print(f'Train Loss: {epoch_train_loss:.4f} | Train Acc: {epoch_train_acc:.2f}%')\n",
    "    print(f'Val Loss: {epoch_val_loss:.4f} | Val Acc: {epoch_val_acc:.2f}%')\n",
    "    if epoch_test_acc > 0:\n",
    "        print(f'Test Loss: {epoch_test_loss:.4f} | Test Acc: {epoch_test_acc:.2f}%')\n",
    "    print(f'Learning Rate: {scheduler.get_last_lr()[0]:.6f}')\n",
    "    \n",
    "    # Check if target achieved\n",
    "    if epoch_val_acc >= 95.0 and epoch_train_acc >= 95.0:\n",
    "        print(f'\\n🎉 TARGET ACHIEVED! Train: {epoch_train_acc:.2f}%, Val: {epoch_val_acc:.2f}%')\n",
    "    \n",
    "    # Save best model\n",
    "    if epoch_val_acc > best_val_acc:\n",
    "        best_val_acc = epoch_val_acc\n",
    "        best_test_acc = epoch_test_acc if epoch_test_acc > 0 else best_test_acc\n",
    "        \n",
    "        torch.save({\n",
    "            'epoch': epoch,\n",
    "            'model_state_dict': model.state_dict(),\n",
    "            'optimizer_state_dict': optimizer.state_dict(),\n",
    "            'scheduler_state_dict': scheduler.state_dict(),\n",
    "            'train_acc': epoch_train_acc,\n",
    "            'val_acc': best_val_acc,\n",
    "            'test_acc': best_test_acc,\n",
    "            'class_weights': class_weights_tensor,\n",
    "        }, r'D:\\SeedLink\\best_model.pth')\n",
    "        \n",
    "        print(f'✓ New best model saved! Val Acc: {best_val_acc:.2f}%')\n",
    "        patience_counter = 0\n",
    "    else:\n",
    "        patience_counter += 1\n",
    "    \n",
    "    print(f'Patience: {patience_counter}/{patience}')\n",
    "    print(f'{\"=\"*70}\\n')\n",
    "    \n",
    "    # Early stopping (only after epoch 20 to allow full training)\n",
    "    if patience_counter >= patience and epoch >= 20:\n",
    "        print(f'\\n⚠️  Early stopping triggered after {epoch+1} epochs')\n",
    "        print(f'Best Val Acc: {best_val_acc:.2f}%')\n",
    "        break\n"
   ]
  },
  {
   "cell_type": "code",
   "execution_count": 26,
   "id": "ebe6278e",
   "metadata": {},
   "outputs": [
    {
     "name": "stdout",
     "output_type": "stream",
     "text": [
      "✓ Checkpoint saved with all training information\n",
      "✓ Model weights saved\n",
      "✓ Class names saved\n",
      "✓ Complete model saved\n"
     ]
    }
   ],
   "source": [
    "# Option 1: Save everything (Recommended for resuming training)\n",
    "checkpoint = {\n",
    "    'epoch': epoch,\n",
    "    'model_state_dict': model.state_dict(),\n",
    "    'optimizer_state_dict': optimizer.state_dict(),\n",
    "    'scheduler_state_dict': scheduler.state_dict(),\n",
    "    'train_acc': epoch_train_acc,\n",
    "    'val_acc': epoch_val_acc,\n",
    "    'test_acc': epoch_test_acc,\n",
    "    'train_loss': epoch_train_loss,\n",
    "    'val_loss': epoch_val_loss,\n",
    "    'best_val_acc': best_val_acc,\n",
    "    'train_acc_history': train_acc_history,\n",
    "    'val_acc_history': val_acc_history,\n",
    "    'train_loss_history': train_loss_history,\n",
    "    'val_loss_history': val_loss_history,\n",
    "    'num_classes': num_classes,\n",
    "    'class_names': train_dataset.classes,\n",
    "}\n",
    "\n",
    "# Save checkpoint\n",
    "torch.save(checkpoint, r'D:\\SeedLink\\best_model.pth')\n",
    "print(\"✓ Checkpoint saved with all training information\")\n",
    "\n",
    "# Option 2: Save only model weights (Recommended for deployment/Flask)\n",
    "torch.save(model.state_dict(), r'D:\\SeedLink\\agri_crop_model_final.pth')\n",
    "print(\"✓ Model weights saved\")\n",
    "\n",
    "# Option 3: Save class names\n",
    "with open(r'D:\\SeedLink\\classes.pkl', 'wb') as f:\n",
    "    pickle.dump(train_dataset.classes, f)\n",
    "print(\"✓ Class names saved\")\n",
    "\n",
    "# Option 4: Save complete model (larger file size)\n",
    "torch.save(model, r'D:\\SeedLink\\complete_model.pth')\n",
    "print(\"✓ Complete model saved\")"
   ]
  },
  {
   "cell_type": "code",
   "execution_count": 27,
   "id": "45ea22ab",
   "metadata": {},
   "outputs": [
    {
     "name": "stdout",
     "output_type": "stream",
     "text": [
      "\n",
      "============================================================\n",
      "LOADING CHECKPOINT\n",
      "============================================================\n",
      "✓ Model loaded from epoch 49\n",
      "✓ Best validation accuracy: 88.64%\n",
      "✓ Number of classes: 96\n",
      "\n",
      "============================================================\n",
      "LOADING MODEL WEIGHTS ONLY\n",
      "============================================================\n",
      "✓ Model loaded with 96 classes\n",
      "✓ Ready for inference!\n"
     ]
    }
   ],
   "source": [
    "# Method 1: Load checkpoint (for resuming training)\n",
    "print(\"\\n\" + \"=\"*60)\n",
    "print(\"LOADING CHECKPOINT\")\n",
    "print(\"=\"*60)\n",
    "\n",
    "checkpoint = torch.load(r'D:\\SeedLink\\best_model.pth', map_location=device)\n",
    "\n",
    "# Rebuild model architecture (IMPORTANT: Must match training architecture)\n",
    "if 'efficientnet' in str(type(model)).lower():\n",
    "    from torchvision.models import efficientnet_v2_m, EfficientNet_V2_M_Weights\n",
    "    model = efficientnet_v2_m(weights=None)\n",
    "    \n",
    "    # Rebuild classifier\n",
    "    num_classes = checkpoint['num_classes']\n",
    "    in_features = model.classifier[1].in_features\n",
    "    \n",
    "    model.classifier = nn.Sequential(\n",
    "        nn.Dropout(0.5),\n",
    "        nn.Linear(in_features, 1024),\n",
    "        nn.ReLU(),\n",
    "        nn.BatchNorm1d(1024),\n",
    "        nn.Dropout(0.4),\n",
    "        nn.Linear(1024, 512),\n",
    "        nn.ReLU(),\n",
    "        nn.BatchNorm1d(512),\n",
    "        nn.Dropout(0.3),\n",
    "        nn.Linear(512, num_classes)\n",
    "    )\n",
    "else:\n",
    "    # ResNet50 architecture\n",
    "    from torchvision.models import resnet50\n",
    "    model = resnet50(weights=None)\n",
    "    num_classes = checkpoint['num_classes']\n",
    "    \n",
    "    model.fc = nn.Sequential(\n",
    "        nn.Dropout(0.5),\n",
    "        nn.Linear(model.fc.in_features, 512),\n",
    "        nn.ReLU(),\n",
    "        nn.Dropout(0.3),\n",
    "        nn.Linear(512, num_classes)\n",
    "    )\n",
    "\n",
    "# Load weights\n",
    "model.load_state_dict(checkpoint['model_state_dict'])\n",
    "model = model.to(device)\n",
    "model.eval()\n",
    "\n",
    "print(f\"✓ Model loaded from epoch {checkpoint['epoch']}\")\n",
    "print(f\"✓ Best validation accuracy: {checkpoint['best_val_acc']:.2f}%\")\n",
    "print(f\"✓ Number of classes: {checkpoint['num_classes']}\")\n",
    "\n",
    "\n",
    "# Method 2: Load only weights (for inference/Flask)\n",
    "print(\"\\n\" + \"=\"*60)\n",
    "print(\"LOADING MODEL WEIGHTS ONLY\")\n",
    "print(\"=\"*60)\n",
    "\n",
    "# Load class names first\n",
    "with open(r'D:\\SeedLink\\classes.pkl', 'rb') as f:\n",
    "    classes = pickle.load(f)\n",
    "\n",
    "num_classes = len(classes)\n",
    "\n",
    "# Rebuild model architecture\n",
    "from torchvision.models import efficientnet_v2_m\n",
    "model = efficientnet_v2_m(weights=None)\n",
    "\n",
    "in_features = model.classifier[1].in_features\n",
    "model.classifier = nn.Sequential(\n",
    "    nn.Dropout(0.5),\n",
    "    nn.Linear(in_features, 1024),\n",
    "    nn.ReLU(),\n",
    "    nn.BatchNorm1d(1024),\n",
    "    nn.Dropout(0.4),\n",
    "    nn.Linear(1024, 512),\n",
    "    nn.ReLU(),\n",
    "    nn.BatchNorm1d(512),\n",
    "    nn.Dropout(0.3),\n",
    "    nn.Linear(512, num_classes)\n",
    ")\n",
    "\n",
    "# Load weights\n",
    "model.load_state_dict(torch.load(r'D:\\SeedLink\\agri_crop_model_final.pth', map_location=device))\n",
    "model = model.to(device)\n",
    "model.eval()\n",
    "\n",
    "print(f\"✓ Model loaded with {num_classes} classes\")\n",
    "print(f\"✓ Ready for inference!\")"
   ]
  },
  {
   "cell_type": "markdown",
   "id": "e9d6bde8",
   "metadata": {},
   "source": [
    "Final Test Evaluation"
   ]
  },
  {
   "cell_type": "code",
   "execution_count": 28,
   "id": "f04d39e9",
   "metadata": {},
   "outputs": [
    {
     "name": "stdout",
     "output_type": "stream",
     "text": [
      "\n",
      "======================================================================\n",
      "FINAL TEST EVALUATION\n",
      "======================================================================\n",
      "\n"
     ]
    },
    {
     "name": "stderr",
     "output_type": "stream",
     "text": [
      "Final Test Evaluation: 100%|██████████| 10/10 [00:14<00:00,  1.47s/it]\n"
     ]
    },
    {
     "name": "stdout",
     "output_type": "stream",
     "text": [
      "Best Training Accuracy: 96.55%\n",
      "Best Validation Accuracy: 88.37%\n",
      "Final Test Accuracy: 87.78%\n",
      "======================================================================\n",
      "\n",
      "✓ Final model and classes saved!\n"
     ]
    }
   ],
   "source": [
    "print(f\"\\n{'='*70}\")\n",
    "print(f\"FINAL TEST EVALUATION\")\n",
    "print(f\"{'='*70}\\n\")\n",
    "\n",
    "# Load best model\n",
    "checkpoint = torch.load(r'D:\\SeedLink\\best_model.pth')\n",
    "model.load_state_dict(checkpoint['model_state_dict'])\n",
    "model.eval()\n",
    "\n",
    "# Comprehensive test evaluation\n",
    "test_correct = 0\n",
    "test_total = 0\n",
    "all_preds = []\n",
    "all_labels = []\n",
    "\n",
    "with torch.no_grad():\n",
    "    for images, labels in tqdm(test_loader, desc='Final Test Evaluation'):\n",
    "        images, labels = images.to(device), labels.to(device)\n",
    "        outputs = model(images)\n",
    "        _, predicted = torch.max(outputs, 1)\n",
    "        \n",
    "        test_total += labels.size(0)\n",
    "        test_correct += (predicted == labels).sum().item()\n",
    "        \n",
    "        all_preds.extend(predicted.cpu().numpy())\n",
    "        all_labels.extend(labels.cpu().numpy())\n",
    "\n",
    "final_test_acc = 100 * test_correct / test_total\n",
    "\n",
    "print(f\"Best Training Accuracy: {checkpoint['train_acc']:.2f}%\")\n",
    "print(f\"Best Validation Accuracy: {checkpoint['val_acc']:.2f}%\")\n",
    "print(f\"Final Test Accuracy: {final_test_acc:.2f}%\")\n",
    "print(f\"{'='*70}\\n\")\n",
    "\n",
    "# Save final model and classes\n",
    "torch.save(model.state_dict(), r'D:\\SeedLink\\agri_crop_model_final.pth')\n",
    "with open(r'D:\\SeedLink\\classes.pkl', 'wb') as f:\n",
    "    pickle.dump(train_dataset.classes, f)\n",
    "\n",
    "print(\"✓ Final model and classes saved!\")"
   ]
  },
  {
   "cell_type": "markdown",
   "id": "c974f2b6",
   "metadata": {},
   "source": [
    "Visualization"
   ]
  },
  {
   "cell_type": "code",
   "execution_count": 29,
   "id": "882c16e4",
   "metadata": {},
   "outputs": [
    {
     "data": {
      "image/png": "[encoded data removed]",
      "text/plain": [
       "<Figure size 1600x1200 with 4 Axes>"
      ]
     },
     "metadata": {},
     "output_type": "display_data"
    },
    {
     "name": "stdout",
     "output_type": "stream",
     "text": [
      "\n",
      "✓ Training visualization saved!\n"
     ]
    }
   ],
   "source": [
    "fig, axes = plt.subplots(2, 2, figsize=(16, 12))\n",
    "\n",
    "# Filter out zero values from test accuracy\n",
    "test_acc_filtered = [acc for acc in test_acc_history if acc > 0]\n",
    "test_epochs = [i for i, acc in enumerate(test_acc_history) if acc > 0]\n",
    "\n",
    "# Accuracy plot\n",
    "axes[0, 0].plot(train_acc_history, label='Train Accuracy', linewidth=2, marker='o', markersize=3)\n",
    "axes[0, 0].plot(val_acc_history, label='Validation Accuracy', linewidth=2, marker='s', markersize=3)\n",
    "if test_acc_filtered:\n",
    "    axes[0, 0].plot(test_epochs, test_acc_filtered, label='Test Accuracy', linewidth=2, marker='^', markersize=4)\n",
    "axes[0, 0].axhline(y=95, color='g', linestyle='--', label='Target (95%)', alpha=0.7, linewidth=2)\n",
    "axes[0, 0].set_title('Accuracy over Epochs', fontsize=14, fontweight='bold')\n",
    "axes[0, 0].set_xlabel('Epoch')\n",
    "axes[0, 0].set_ylabel('Accuracy (%)')\n",
    "axes[0, 0].legend()\n",
    "axes[0, 0].grid(True, alpha=0.3)\n",
    "\n",
    "# Loss plot\n",
    "axes[0, 1].plot(train_loss_history, label='Train Loss', linewidth=2, marker='o', markersize=3)\n",
    "axes[0, 1].plot(val_loss_history, label='Validation Loss', linewidth=2, marker='s', markersize=3)\n",
    "axes[0, 1].set_title('Loss over Epochs', fontsize=14, fontweight='bold')\n",
    "axes[0, 1].set_xlabel('Epoch')\n",
    "axes[0, 1].set_ylabel('Loss')\n",
    "axes[0, 1].legend()\n",
    "axes[0, 1].grid(True, alpha=0.3)\n",
    "\n",
    "# Final comparison\n",
    "datasets_list = ['Train', 'Validation', 'Test']\n",
    "accuracies = [checkpoint['train_acc'], checkpoint['val_acc'], final_test_acc]\n",
    "colors = ['#2ecc71', '#3498db', '#e74c3c']\n",
    "\n",
    "bars = axes[1, 0].bar(datasets_list, accuracies, color=colors, alpha=0.7, edgecolor='black', linewidth=1.5)\n",
    "axes[1, 0].axhline(y=95, color='gold', linestyle='--', linewidth=2, label='Target (95%)')\n",
    "axes[1, 0].set_title('Final Accuracy Comparison', fontsize=14, fontweight='bold')\n",
    "axes[1, 0].set_ylabel('Accuracy (%)')\n",
    "axes[1, 0].set_ylim(0, 100)\n",
    "axes[1, 0].legend()\n",
    "axes[1, 0].grid(True, alpha=0.3, axis='y')\n",
    "\n",
    "for bar, acc in zip(bars, accuracies):\n",
    "    height = bar.get_height()\n",
    "    axes[1, 0].text(bar.get_x() + bar.get_width()/2., height,\n",
    "                    f'{acc:.2f}%', ha='center', va='bottom', fontweight='bold', fontsize=12)\n",
    "\n",
    "# Learning rate schedule\n",
    "lr_history = [5e-4]  # Starting LR\n",
    "axes[1, 1].plot(lr_history * len(train_acc_history), linewidth=2)\n",
    "axes[1, 1].set_title('Learning Rate Schedule', fontsize=14, fontweight='bold')\n",
    "axes[1, 1].set_xlabel('Epoch')\n",
    "axes[1, 1].set_ylabel('Learning Rate')\n",
    "axes[1, 1].set_yscale('log')\n",
    "axes[1, 1].grid(True, alpha=0.3)\n",
    "\n",
    "plt.tight_layout()\n",
    "plt.savefig(r'D:\\SeedLink\\training_results_final.png', dpi=300, bbox_inches='tight')\n",
    "plt.show()\n",
    "\n",
    "print(\"\\n✓ Training visualization saved!\")\n"
   ]
  },
  {
   "cell_type": "markdown",
   "id": "ced645f6",
   "metadata": {},
   "source": [
    "Inference Function"
   ]
  },
  {
   "cell_type": "code",
   "execution_count": 31,
   "id": "d8e23564",
   "metadata": {},
   "outputs": [
    {
     "name": "stdout",
     "output_type": "stream",
     "text": [
      "\n",
      "============================================================\n",
      "INFERENCE EXAMPLE\n",
      "============================================================\n",
      "\n",
      "Image: D:\\SeedLink\\Agricultural-crops\\Apple\\Image_1.jpg\n",
      "\n",
      "Top 5 Predictions:\n",
      "  1. Apple                - 93.96%\n",
      "  2. Amaranth             -  0.36%\n",
      "  3. Chikoo               -  0.22%\n",
      "  4. Sugarcane            -  0.20%\n",
      "  5. Yam                  -  0.20%\n",
      "\n",
      "✓ Predicted: Apple (93.96% confidence)\n"
     ]
    }
   ],
   "source": [
    "print(\"\\n\" + \"=\"*60)\n",
    "print(\"INFERENCE EXAMPLE\")\n",
    "print(\"=\"*60)\n",
    "\n",
    "def predict_single_image(image_path, model, transform, classes, device):\n",
    "    \"\"\"Predict crop from a single image\"\"\"\n",
    "    # Load and preprocess image\n",
    "    image = Image.open(image_path).convert('RGB')\n",
    "    image_tensor = transform(image).unsqueeze(0).to(device)\n",
    "    \n",
    "    # Predict\n",
    "    model.eval()\n",
    "    with torch.no_grad():\n",
    "        outputs = model(image_tensor)\n",
    "        probs = F.softmax(outputs, dim=1)\n",
    "        top5_probs, top5_indices = torch.topk(probs, 5)\n",
    "    \n",
    "    # Display results\n",
    "    print(f\"\\nImage: {image_path}\")\n",
    "    print(f\"\\nTop 5 Predictions:\")\n",
    "    for i in range(5):\n",
    "        crop_name = classes[top5_indices[0][i].item()]\n",
    "        confidence = top5_probs[0][i].item() * 100\n",
    "        print(f\"  {i+1}. {crop_name:20s} - {confidence:5.2f}%\")\n",
    "    \n",
    "    return classes[top5_indices[0][0].item()], top5_probs[0][0].item()\n",
    "\n",
    "# Test on a sample image\n",
    "sample_image = r'D:\\SeedLink\\Agricultural-crops\\Apple\\Image_1.jpg'  # Change this path\n",
    "\n",
    "if os.path.exists(sample_image):\n",
    "    predicted_crop, confidence = predict_single_image(\n",
    "        sample_image, \n",
    "        model, \n",
    "        val_test_transform, \n",
    "        classes, \n",
    "        device\n",
    "    )\n",
    "    print(f\"\\n✓ Predicted: {predicted_crop} ({confidence*100:.2f}% confidence)\")\n",
    "else:\n",
    "    print(f\"\\n⚠️  Sample image not found: {sample_image}\")"
   ]
  },
  {
   "cell_type": "code",
   "execution_count": 43,
   "id": "3f104b8f",
   "metadata": {},
   "outputs": [],
   "source": [
    "if 'test_acc_history' in locals() and test_acc_history:\n",
    "    # Get last non-zero test accuracy\n",
    "    test_accuracy = [acc for acc in test_acc_history if acc > 0][-1] if any(acc > 0 for acc in test_acc_history) else 0\n",
    "else:\n",
    "    # Option 2: Calculate test accuracy from scratch\n",
    "    model.eval()\n",
    "    test_correct = 0\n",
    "    test_total = 0\n",
    "    \n",
    "    with torch.no_grad():\n",
    "        for images, labels in test_loader:\n",
    "            images, labels = images.to(device), labels.to(device)\n",
    "            outputs = model(images)\n",
    "            _, predicted = torch.max(outputs, 1)\n",
    "            \n",
    "            test_total += labels.size(0)\n",
    "            test_correct += (predicted == labels).sum().item()\n",
    "    \n",
    "    test_accuracy = 100 * test_correct / test_total\n",
    "    print(f\"Calculated Test Accuracy: {test_accuracy:.2f}%\")"
   ]
  },
  {
   "cell_type": "code",
   "execution_count": 46,
   "id": "279fc5c6",
   "metadata": {},
   "outputs": [
    {
     "name": "stdout",
     "output_type": "stream",
     "text": [
      "✓ model_info.json saved\n"
     ]
    }
   ],
   "source": [
    "import json\n",
    "\n",
    "\n",
    "model_info = {\n",
    "    'model_name': 'Agricultural Crop Classifier',\n",
    "    'architecture': 'EfficientNetV2-M',\n",
    "    'version': '1.0.0',\n",
    "    'num_classes': int(num_classes),\n",
    "    'classes': classes,\n",
    "    'input_size': '224x224',\n",
    "    'preprocessing': {\n",
    "        'resize': 224,\n",
    "        'normalize_mean': [0.485, 0.456, 0.406],\n",
    "        'normalize_std': [0.229, 0.224, 0.225],\n",
    "        'data_augmentation': {\n",
    "            'train': [\n",
    "                'RandomResizedCrop',\n",
    "                'RandomHorizontalFlip',\n",
    "                'RandomVerticalFlip',\n",
    "                'RandomRotation(30)',\n",
    "                'ColorJitter',\n",
    "                'RandomAffine',\n",
    "                'RandomPerspective',\n",
    "                'RandomGrayscale',\n",
    "                'RandomErasing'\n",
    "            ],\n",
    "            'test': ['Resize', 'Normalize']\n",
    "        }\n",
    "    },\n",
    "    'performance': {\n",
    "        'test_accuracy': float(test_accuracy),  # Fixed: single value now\n",
    "        'validation_accuracy': float(checkpoint.get('val_acc', 0)),\n",
    "        'train_accuracy': float(checkpoint.get('train_acc', 0)),\n",
    "        'test_loss': float(checkpoint.get('test_loss', 0)) if 'test_loss' in checkpoint else None,\n",
    "        'validation_loss': float(checkpoint.get('val_loss', 0)) if 'val_loss' in checkpoint else None\n",
    "    },\n",
    "    'training': {\n",
    "        'total_epochs': int(checkpoint.get('epoch', 0)),\n",
    "        'optimizer': 'AdamW',\n",
    "        'learning_rate': '5e-4',\n",
    "        'scheduler': 'OneCycleLR',\n",
    "        'batch_size': 64,\n",
    "        'weight_decay': 1e-4,\n",
    "        'label_smoothing': 0.1,\n",
    "        'early_stopping_patience': 15\n",
    "    },\n",
    "    'dataset': {\n",
    "        'train_samples': len(train_dataset),\n",
    "        'validation_samples': len(val_dataset),\n",
    "        'test_samples': len(test_dataset),\n",
    "        'split_ratio': {'train': 0.75, 'val': 0.15, 'test': 0.10}\n",
    "    },\n",
    "    'hardware': {\n",
    "        'device': str(device),\n",
    "        'cuda_available': torch.cuda.is_available(),\n",
    "        'gpu_name': torch.cuda.get_device_name(0) if torch.cuda.is_available() else 'N/A'\n",
    "    },\n",
    "    'files': {\n",
    "        'checkpoint': 'best_model.pth',\n",
    "        'weights_only': 'agri_crop_model_final.pth',\n",
    "        'complete_model': 'complete_model.pth',\n",
    "        'classes': 'classes.pkl',\n",
    "        'test_results': 'test_results.json',\n",
    "        'model_info': 'model_info.json'\n",
    "    },\n",
    "    'deployment': {\n",
    "        'framework': 'Flask',\n",
    "        'api_endpoints': [\n",
    "            '/api/predict',\n",
    "            '/api/health',\n",
    "            '/api/classes',\n",
    "            '/api/recommendations/<crop_name>'\n",
    "        ],\n",
    "        'supported_formats': ['PNG', 'JPG', 'JPEG'],\n",
    "        'max_file_size': '16MB'\n",
    "    }\n",
    "}\n",
    "\n",
    "info_path = r'D:\\SeedLink\\model_info.json'\n",
    "with open(info_path, 'w') as f:\n",
    "    json.dump(model_info, indent=4, fp=f)\n",
    "\n",
    "print(f\"✓ model_info.json saved\")"
   ]
  },
  {
   "cell_type": "code",
   "execution_count": 47,
   "id": "d8e7f5f1",
   "metadata": {},
   "outputs": [
    {
     "name": "stdout",
     "output_type": "stream",
     "text": [
      "\n",
      "============================================================\n",
      "MODEL INFO SUMMARY\n",
      "============================================================\n",
      "Model: Agricultural Crop Classifier\n",
      "Architecture: EfficientNetV2-M\n",
      "Classes: 96\n",
      "Test Accuracy: 87.78%\n",
      "Validation Accuracy: 88.37%\n",
      "Train Accuracy: 96.55%\n",
      "Total Epochs: 49\n",
      "Device: cuda\n",
      "============================================================\n"
     ]
    }
   ],
   "source": [
    "print(f\"\\n{'='*60}\")\n",
    "print(\"MODEL INFO SUMMARY\")\n",
    "print(f\"{'='*60}\")\n",
    "print(f\"Model: {model_info['model_name']}\")\n",
    "print(f\"Architecture: {model_info['architecture']}\")\n",
    "print(f\"Classes: {model_info['num_classes']}\")\n",
    "print(f\"Test Accuracy: {model_info['performance']['test_accuracy']:.2f}%\")\n",
    "print(f\"Validation Accuracy: {model_info['performance']['validation_accuracy']:.2f}%\")\n",
    "print(f\"Train Accuracy: {model_info['performance']['train_accuracy']:.2f}%\")\n",
    "print(f\"Total Epochs: {model_info['training']['total_epochs']}\")\n",
    "print(f\"Device: {model_info['hardware']['device']}\")\n",
    "print(f\"{'='*60}\")"
   ]
  }
 ],
 "metadata": {
  "kernelspec": {
   "display_name": "venv",
   "language": "python",
   "name": "python3"
  },
  "language_info": {
   "codemirror_mode": {
    "name": "ipython",
    "version": 3
   },
   "file_extension": ".py",
   "mimetype": "text/x-python",
   "name": "python",
   "nbconvert_exporter": "python",
   "pygments_lexer": "ipython3",
   "version": "3.12.2"
  }
 },
 "nbformat": 4,
 "nbformat_minor": 5
}
